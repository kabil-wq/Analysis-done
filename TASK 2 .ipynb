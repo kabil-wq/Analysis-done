{
 "cells": [
  {
   "cell_type": "code",
   "execution_count": 1,
   "id": "2e06b2c9",
   "metadata": {},
   "outputs": [],
   "source": [
    "import pandas as pd\n",
    "train_df = pd.read_csv(r\"C:\\Users\\kabil\\Downloads\\train.csv\")\n"
   ]
  },
  {
   "cell_type": "code",
   "execution_count": 2,
   "id": "34dbfbd6",
   "metadata": {},
   "outputs": [
    {
     "name": "stdout",
     "output_type": "stream",
     "text": [
      "Missing values before cleaning:\n",
      "PassengerId      0\n",
      "Survived         0\n",
      "Pclass           0\n",
      "Name             0\n",
      "Sex              0\n",
      "Age            177\n",
      "SibSp            0\n",
      "Parch            0\n",
      "Ticket           0\n",
      "Fare             0\n",
      "Cabin          687\n",
      "Embarked         2\n",
      "dtype: int64\n",
      "\n",
      "Data types:\n",
      "PassengerId      int64\n",
      "Survived         int64\n",
      "Pclass           int64\n",
      "Name            object\n",
      "Sex             object\n",
      "Age            float64\n",
      "SibSp            int64\n",
      "Parch            int64\n",
      "Ticket          object\n",
      "Fare           float64\n",
      "Cabin           object\n",
      "Embarked        object\n",
      "dtype: object\n"
     ]
    }
   ],
   "source": [
    "# Check for missing values\n",
    "print(\"Missing values before cleaning:\")\n",
    "print(train_df.isnull().sum())\n",
    "\n",
    "# Fill missing values for numeric columns with the mean\n",
    "train_df['Age'].fillna(train_df['Age'].mean(), inplace=True)\n",
    "train_df['Fare'].fillna(train_df['Fare'].mean(), inplace=True)\n",
    "\n",
    "# Fill missing values for categorical columns with the mode\n",
    "train_df['Embarked'].fillna(train_df['Embarked'].mode()[0], inplace=True)\n",
    "\n",
    "# Optionally, drop rows with missing values if necessary\n",
    "# train_df.dropna(inplace=True)\n",
    "\n",
    "# Check data types\n",
    "print(\"\\nData types:\")\n",
    "print(train_df.dtypes)\n"
   ]
  },
  {
   "cell_type": "code",
   "execution_count": 4,
   "id": "d90de1b4",
   "metadata": {},
   "outputs": [
    {
     "name": "stdout",
     "output_type": "stream",
     "text": [
      "Missing values before handling:\n",
      "PassengerId      0\n",
      "Survived         0\n",
      "Pclass           0\n",
      "Name             0\n",
      "Sex              0\n",
      "Age              0\n",
      "SibSp            0\n",
      "Parch            0\n",
      "Ticket           0\n",
      "Fare             0\n",
      "Cabin          687\n",
      "Embarked         0\n",
      "dtype: int64\n",
      "\n",
      "Missing values after handling:\n",
      "PassengerId      0\n",
      "Survived         0\n",
      "Pclass           0\n",
      "Name             0\n",
      "Sex              0\n",
      "Age              0\n",
      "SibSp            0\n",
      "Parch            0\n",
      "Ticket           0\n",
      "Fare             0\n",
      "Cabin          687\n",
      "Embarked         0\n",
      "dtype: int64\n"
     ]
    }
   ],
   "source": [
    "# Inspect missing values\n",
    "print(\"Missing values before handling:\")\n",
    "print(train_df.isnull().sum())\n",
    "\n",
    "# Fill missing values for 'Age' and 'Fare' with mean (or use other strategies if preferred)\n",
    "train_df['Age'].fillna(train_df['Age'].mean(), inplace=True)\n",
    "train_df['Fare'].fillna(train_df['Fare'].mean(), inplace=True)\n",
    "\n",
    "# Check missing values again\n",
    "print(\"\\nMissing values after handling:\")\n",
    "print(train_df.isnull().sum())\n"
   ]
  },
  {
   "cell_type": "code",
   "execution_count": 5,
   "id": "b4cecf8f",
   "metadata": {},
   "outputs": [
    {
     "name": "stdout",
     "output_type": "stream",
     "text": [
      "\n",
      "Mean values:\n",
      " Age     29.699118\n",
      "Fare    32.204208\n",
      "dtype: float64\n",
      "\n",
      "Median values:\n",
      " Age     29.699118\n",
      "Fare    14.454200\n",
      "dtype: float64\n",
      "\n",
      "Mode values:\n",
      " Age     29.699118\n",
      "Fare     8.050000\n",
      "Name: 0, dtype: float64\n",
      "\n",
      "Standard deviation values:\n",
      " Age     13.002015\n",
      "Fare    49.693429\n",
      "dtype: float64\n"
     ]
    }
   ],
   "source": [
    "# Calculate summary statistics for numeric columns\n",
    "numeric_cols = ['Age', 'Fare']\n",
    "\n",
    "# Mean\n",
    "mean_values = train_df[numeric_cols].mean()\n",
    "print(\"\\nMean values:\\n\", mean_values)\n",
    "\n",
    "# Median\n",
    "median_values = train_df[numeric_cols].median()\n",
    "print(\"\\nMedian values:\\n\", median_values)\n",
    "\n",
    "# Mode\n",
    "mode_values = train_df[numeric_cols].mode().iloc[0]\n",
    "print(\"\\nMode values:\\n\", mode_values)\n",
    "\n",
    "# Standard Deviation\n",
    "std_dev_values = train_df[numeric_cols].std()\n",
    "print(\"\\nStandard deviation values:\\n\", std_dev_values)\n"
   ]
  },
  {
   "cell_type": "code",
   "execution_count": 6,
   "id": "30c743c7",
   "metadata": {},
   "outputs": [
    {
     "name": "stdout",
     "output_type": "stream",
     "text": [
      "\n",
      "Data types:\n",
      "PassengerId      int64\n",
      "Survived         int64\n",
      "Pclass           int64\n",
      "Name            object\n",
      "Sex             object\n",
      "Age            float64\n",
      "SibSp            int64\n",
      "Parch            int64\n",
      "Ticket          object\n",
      "Fare           float64\n",
      "Cabin           object\n",
      "Embarked        object\n",
      "dtype: object\n",
      "\n",
      "Summary of data:\n",
      "        PassengerId    Survived      Pclass                     Name   Sex  \\\n",
      "count    891.000000  891.000000  891.000000                      891   891   \n",
      "unique          NaN         NaN         NaN                      891     2   \n",
      "top             NaN         NaN         NaN  Braund, Mr. Owen Harris  male   \n",
      "freq            NaN         NaN         NaN                        1   577   \n",
      "mean     446.000000    0.383838    2.308642                      NaN   NaN   \n",
      "std      257.353842    0.486592    0.836071                      NaN   NaN   \n",
      "min        1.000000    0.000000    1.000000                      NaN   NaN   \n",
      "25%      223.500000    0.000000    2.000000                      NaN   NaN   \n",
      "50%      446.000000    0.000000    3.000000                      NaN   NaN   \n",
      "75%      668.500000    1.000000    3.000000                      NaN   NaN   \n",
      "max      891.000000    1.000000    3.000000                      NaN   NaN   \n",
      "\n",
      "               Age       SibSp       Parch  Ticket        Fare    Cabin  \\\n",
      "count   891.000000  891.000000  891.000000     891  891.000000      204   \n",
      "unique         NaN         NaN         NaN     681         NaN      147   \n",
      "top            NaN         NaN         NaN  347082         NaN  B96 B98   \n",
      "freq           NaN         NaN         NaN       7         NaN        4   \n",
      "mean     29.699118    0.523008    0.381594     NaN   32.204208      NaN   \n",
      "std      13.002015    1.102743    0.806057     NaN   49.693429      NaN   \n",
      "min       0.420000    0.000000    0.000000     NaN    0.000000      NaN   \n",
      "25%      22.000000    0.000000    0.000000     NaN    7.910400      NaN   \n",
      "50%      29.699118    0.000000    0.000000     NaN   14.454200      NaN   \n",
      "75%      35.000000    1.000000    0.000000     NaN   31.000000      NaN   \n",
      "max      80.000000    8.000000    6.000000     NaN  512.329200      NaN   \n",
      "\n",
      "       Embarked  \n",
      "count       891  \n",
      "unique        3  \n",
      "top           S  \n",
      "freq        646  \n",
      "mean        NaN  \n",
      "std         NaN  \n",
      "min         NaN  \n",
      "25%         NaN  \n",
      "50%         NaN  \n",
      "75%         NaN  \n",
      "max         NaN  \n"
     ]
    }
   ],
   "source": [
    "# Inspect data types and summary statistics for all columns\n",
    "print(\"\\nData types:\")\n",
    "print(train_df.dtypes)\n",
    "\n",
    "print(\"\\nSummary of data:\")\n",
    "print(train_df.describe(include='all'))  # Comprehensive overview\n"
   ]
  },
  {
   "cell_type": "code",
   "execution_count": null,
   "id": "5f4f6bbf",
   "metadata": {},
   "outputs": [],
   "source": []
  }
 ],
 "metadata": {
  "kernelspec": {
   "display_name": "Python 3 (ipykernel)",
   "language": "python",
   "name": "python3"
  },
  "language_info": {
   "codemirror_mode": {
    "name": "ipython",
    "version": 3
   },
   "file_extension": ".py",
   "mimetype": "text/x-python",
   "name": "python",
   "nbconvert_exporter": "python",
   "pygments_lexer": "ipython3",
   "version": "3.9.13"
  }
 },
 "nbformat": 4,
 "nbformat_minor": 5
}
